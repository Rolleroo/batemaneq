{
 "cells": [
  {
   "cell_type": "code",
   "execution_count": 1,
   "metadata": {
    "collapsed": false
   },
   "outputs": [
    {
     "name": "stdout",
     "output_type": "stream",
     "text": [
      "0.7.6\n"
     ]
    }
   ],
   "source": [
    "# This will setup our sympy powered jupyter environment\n",
    "from IPython.display import display\n",
    "from sympy.interactive import printing\n",
    "printing.init_printing()\n",
    "\n",
    "import sympy\n",
    "from sympy import S, symbols, exp, log, solve\n",
    "print(sympy.__version__)\n",
    "from batemaneq import bateman_parent"
   ]
  },
  {
   "cell_type": "code",
   "execution_count": 4,
   "metadata": {
    "collapsed": false
   },
   "outputs": [],
   "source": [
    "N = 3\n",
    "zero, one, t = S('0'), S('1'), symbols('t')\n",
    "lmbd = symbols('lambda:'+str(N))"
   ]
  },
  {
   "cell_type": "code",
   "execution_count": 5,
   "metadata": {
    "collapsed": false
   },
   "outputs": [
    {
     "data": {
      "image/png": "[encoded data removed]",
      "text/latex": [
       "$$\\left [ e^{- \\lambda_{0} t}, \\quad \\lambda_{0} \\left(\\frac{e^{- \\lambda_{1} t}}{\\lambda_{0} - \\lambda_{1}} + \\frac{e^{- \\lambda_{0} t}}{- \\lambda_{0} + \\lambda_{1}}\\right), \\quad \\lambda_{0} \\lambda_{1} \\left(\\frac{e^{- \\lambda_{2} t}}{\\left(\\lambda_{0} - \\lambda_{2}\\right) \\left(\\lambda_{1} - \\lambda_{2}\\right)} + \\frac{e^{- \\lambda_{1} t}}{\\left(\\lambda_{0} - \\lambda_{1}\\right) \\left(- \\lambda_{1} + \\lambda_{2}\\right)} + \\frac{e^{- \\lambda_{0} t}}{\\left(- \\lambda_{0} + \\lambda_{1}\\right) \\left(- \\lambda_{0} + \\lambda_{2}\\right)}\\right)\\right ]$$"
      ],
      "text/plain": [
       "⎡           ⎛  -λ₁⋅t     -λ₀⋅t ⎞        ⎛        -λ₂⋅t                 -λ₁⋅t  \n",
       "⎢ -λ₀⋅t     ⎜ ℯ         ℯ      ⎟        ⎜       ℯ                     ℯ       \n",
       "⎢ℯ     , λ₀⋅⎜─────── + ────────⎟, λ₀⋅λ₁⋅⎜─────────────────── + ───────────────\n",
       "⎣           ⎝λ₀ - λ₁   -λ₀ + λ₁⎠        ⎝(λ₀ - λ₂)⋅(λ₁ - λ₂)   (λ₀ - λ₁)⋅(-λ₁ \n",
       "\n",
       "                 -λ₀⋅t       ⎞⎤\n",
       "                ℯ            ⎟⎥\n",
       "───── + ─────────────────────⎟⎥\n",
       "+ λ₂)   (-λ₀ + λ₁)⋅(-λ₀ + λ₂)⎠⎦"
      ]
     },
     "execution_count": 5,
     "metadata": {},
     "output_type": "execute_result"
    }
   ],
   "source": [
    "bateman_parent(lmbd, t, one, zero, exp)"
   ]
  },
  {
   "cell_type": "code",
   "execution_count": 7,
   "metadata": {
    "collapsed": false
   },
   "outputs": [
    {
     "data": {
      "image/png": "[encoded data removed]",
      "text/latex": [
       "$$\\left [ e^{- k}, \\quad k \\left(\\frac{e^{- k}}{k} - \\frac{1}{k} e^{- 2 k}\\right), \\quad 2 k^{2} \\left(\\frac{e^{- k}}{2 k^{2}} - \\frac{1}{k^{2}} e^{- 2 k} + \\frac{e^{- 3 k}}{2 k^{2}}\\right), \\quad 6 k^{3} \\left(\\frac{e^{- k}}{6 k^{3}} - \\frac{e^{- 2 k}}{2 k^{3}} + \\frac{e^{- 3 k}}{2 k^{3}} - \\frac{e^{- 4 k}}{6 k^{3}}\\right), \\quad 24 k^{4} \\left(\\frac{e^{- k}}{24 k^{4}} - \\frac{e^{- 2 k}}{6 k^{4}} + \\frac{e^{- 3 k}}{4 k^{4}} - \\frac{e^{- 4 k}}{6 k^{4}} + \\frac{e^{- 5 k}}{24 k^{4}}\\right), \\quad 120 k^{5} \\left(\\frac{e^{- k}}{120 k^{5}} - \\frac{e^{- 2 k}}{24 k^{5}} + \\frac{e^{- 3 k}}{12 k^{5}} - \\frac{e^{- 4 k}}{12 k^{5}} + \\frac{e^{- 5 k}}{24 k^{5}} - \\frac{e^{- 6 k}}{120 k^{5}}\\right)\\right ]$$"
      ],
      "text/plain": [
       "⎡       ⎛ -k    -2⋅k⎞       ⎛ -k     -2⋅k    -3⋅k⎞       ⎛ -k     -2⋅k    -3⋅k\n",
       "⎢ -k    ⎜ℯ     ℯ    ⎟     2 ⎜ℯ      ℯ       ℯ    ⎟     3 ⎜ℯ      ℯ       ℯ    \n",
       "⎢ℯ  , k⋅⎜─── - ─────⎟, 2⋅k ⋅⎜──── - ───── + ─────⎟, 6⋅k ⋅⎜──── - ───── + ─────\n",
       "⎢       ⎝ k      k  ⎠       ⎜   2      2        2⎟       ⎜   3       3       3\n",
       "⎣                           ⎝2⋅k      k      2⋅k ⎠       ⎝6⋅k     2⋅k     2⋅k \n",
       "\n",
       "    -4⋅k⎞        ⎛  -k     -2⋅k    -3⋅k    -4⋅k    -5⋅k⎞         ⎛  -k      -2\n",
       "   ℯ    ⎟      4 ⎜ ℯ      ℯ       ℯ       ℯ       ℯ    ⎟       5 ⎜ ℯ       ℯ  \n",
       " - ─────⎟, 24⋅k ⋅⎜───── - ───── + ───── - ───── + ─────⎟, 120⋅k ⋅⎜────── - ───\n",
       "       3⎟        ⎜    4       4       4       4       4⎟         ⎜     5      \n",
       "    6⋅k ⎠        ⎝24⋅k     6⋅k     4⋅k     6⋅k    24⋅k ⎠         ⎝120⋅k    24⋅\n",
       "\n",
       "⋅k    -3⋅k    -4⋅k    -5⋅k    -6⋅k ⎞⎤\n",
       "     ℯ       ℯ       ℯ       ℯ     ⎟⎥\n",
       "── + ───── - ───── + ───── - ──────⎟⎥\n",
       " 5       5       5       5        5⎟⎥\n",
       "k    12⋅k    12⋅k    24⋅k    120⋅k ⎠⎦"
      ]
     },
     "execution_count": 7,
     "metadata": {},
     "output_type": "execute_result"
    }
   ],
   "source": [
    "k = symbols('k')\n",
    "bateman_parent([i*k for i in range(1, 7)], one, one, zero, exp)"
   ]
  }
 ],
 "metadata": {
  "kernelspec": {
   "display_name": "Python 2",
   "language": "python",
   "name": "python2"
  },
  "language_info": {
   "codemirror_mode": {
    "name": "ipython",
    "version": 2
   },
   "file_extension": ".py",
   "mimetype": "text/x-python",
   "name": "python",
   "nbconvert_exporter": "python",
   "pygments_lexer": "ipython2",
   "version": "2.7.6"
  }
 },
 "nbformat": 4,
 "nbformat_minor": 0
}
